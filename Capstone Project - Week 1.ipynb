{
    "cells": [
        {
            "cell_type": "markdown",
            "metadata": {
                "collapsed": true
            },
            "source": "<b>Clearly define a problem or an idea of your choice, where you would need to leverage the Foursquare location data to solve or execute. Remember that data science problems always target an audience and are meant to help a group of stakeholders solve a problem, so make sure that you explicitly describe your audience and why they would care about your problem.\n</b>"
        },
        {
            "cell_type": "markdown",
            "metadata": {},
            "source": "Toronto is one of the largest cities in North America. It is common ranked as a \"global city\", and is considered Canada's financial and economic hub. With a population of over 6 million people, many of which come from all over the world, Toronto has an evolving food scene. By the City of Toronto estimates, there are about 7500 restaurants in the city. Needless to say, the restaurant industry can be competitive.\n\nWhen setting up a restaurant, it's important to have great food, but also choose a great location. i Finding a  \"good\" location can be tricky, you don't want to too densely populated with competitors, but you also want to be in an area where there is a certain amount of density that will draw customers in (ie the food neighbours).  My friend operates an ice cream company in Toronto, eventually they may want to set up a physical location. I will try to identify the best neighbourhood to establish a restaurant in Toronto. Understanding which neighbourhoods and general area may be useful in choosing their future location based on competitor density and overall restaurant density. Most of the time when deciding a new location, a restaurant owner will use gut feeling and the direction of a commercial real estate agent, but we will use data to determine what's best. Keep in mind, many layers can be added to this analysis, but for simplicity's sake we will exclude property pricing from this analysis. As they say \"you have to spend money to make money\", we will remain under the assumption that if a restaurant owner chooses the right location, the cost will justify the traffic.\n\n[https://www.toronto.ca/311/knowledgebase/kb/docs/articles/economic-development-and-culture/program-support/number-of-restaurants-in-toronto.html#:~:text=Approximately 7,500](https://www.toronto.ca/311/knowledgebase/kb/docs/articles/economic-development-and-culture/program-support/number-of-restaurants-in-toronto.html#:~:text=Approximately%207,500).\n\n[https://en.wikipedia.org/wiki/Global_city](https://en.wikipedia.org/wiki/Global_city)"
        },
        {
            "cell_type": "markdown",
            "metadata": {},
            "source": "<b>Describe the data that you will be using to solve the problem or execute your idea. Remember that you will need to use the Foursquare location data to solve the problem or execute your idea. You can absolutely use other datasets in combination with the Foursquare location data. So make sure that you provide adequate explanation and discussion, with examples, of the data that you will be using, even if it is only Foursquare location data.\n</b>"
        },
        {
            "cell_type": "markdown",
            "metadata": {},
            "source": "To tackle this analysis we will utilize the datasets listed below:\n\n- I used the postal code/neighbourhood data that can be found on Wikipedia, this data was used for grouping and clustering food venues [*]\n- I used the\u00a0Foursquare API\u00a0to create a list of the food venues in Toronto, the coordinates and restaurant type were used to  plot and compare density[*]."
        },
        {
            "cell_type": "code",
            "execution_count": null,
            "metadata": {},
            "outputs": [],
            "source": ""
        }
    ],
    "metadata": {
        "kernelspec": {
            "display_name": "Python 3.7",
            "language": "python",
            "name": "python3"
        },
        "language_info": {
            "codemirror_mode": {
                "name": "ipython",
                "version": 3
            },
            "file_extension": ".py",
            "mimetype": "text/x-python",
            "name": "python",
            "nbconvert_exporter": "python",
            "pygments_lexer": "ipython3",
            "version": "3.7.10"
        }
    },
    "nbformat": 4,
    "nbformat_minor": 1
}